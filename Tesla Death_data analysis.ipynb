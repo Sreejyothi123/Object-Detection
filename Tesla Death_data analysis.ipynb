{
 "cells": [
  {
   "cell_type": "code",
   "execution_count": 2,
   "id": "abd97136",
   "metadata": {},
   "outputs": [],
   "source": [
    "import warnings\n",
    "warnings.filterwarnings('ignore')\n",
    "import numpy as np\n",
    "import pandas as pd\n",
    "import matplotlib.pyplot as plt"
   ]
  },
  {
   "cell_type": "code",
   "execution_count": 3,
   "id": "d51145ed",
   "metadata": {},
   "outputs": [
    {
     "name": "stdout",
     "output_type": "stream",
     "text": [
      "2.2.3\n"
     ]
    }
   ],
   "source": [
    "print(pd.__version__)"
   ]
  },
  {
   "cell_type": "markdown",
   "id": "554f2e5b",
   "metadata": {},
   "source": [
    "### Importing CSV"
   ]
  },
  {
   "cell_type": "code",
   "execution_count": 4,
   "id": "bd244b2c",
   "metadata": {},
   "outputs": [],
   "source": [
    "df = pd.read_csv('Tesla_Deaths.csv')"
   ]
  },
  {
   "cell_type": "code",
   "execution_count": 5,
   "id": "9b93c742",
   "metadata": {},
   "outputs": [
    {
     "data": {
      "text/html": [
       "<div>\n",
       "<style scoped>\n",
       "    .dataframe tbody tr th:only-of-type {\n",
       "        vertical-align: middle;\n",
       "    }\n",
       "\n",
       "    .dataframe tbody tr th {\n",
       "        vertical-align: top;\n",
       "    }\n",
       "\n",
       "    .dataframe thead th {\n",
       "        text-align: right;\n",
       "    }\n",
       "</style>\n",
       "<table border=\"1\" class=\"dataframe\">\n",
       "  <thead>\n",
       "    <tr style=\"text-align: right;\">\n",
       "      <th></th>\n",
       "      <th>Case #</th>\n",
       "      <th>Year</th>\n",
       "      <th>Date</th>\n",
       "      <th>Country</th>\n",
       "      <th>State</th>\n",
       "      <th>Description</th>\n",
       "      <th>Deaths</th>\n",
       "      <th>Tesla driver</th>\n",
       "      <th>Tesla occupant</th>\n",
       "      <th>Other vehicle</th>\n",
       "      <th>...</th>\n",
       "      <th>Verified Tesla Autopilot Deaths</th>\n",
       "      <th>Verified Tesla Autopilot Deaths + All Deaths Reported to NHTSA SGO</th>\n",
       "      <th>Unnamed: 16</th>\n",
       "      <th>Unnamed: 17</th>\n",
       "      <th>Source</th>\n",
       "      <th>Note</th>\n",
       "      <th>Deceased 1</th>\n",
       "      <th>Deceased 2</th>\n",
       "      <th>Deceased 3</th>\n",
       "      <th>Deceased 4</th>\n",
       "    </tr>\n",
       "  </thead>\n",
       "  <tbody>\n",
       "    <tr>\n",
       "      <th>0</th>\n",
       "      <td>294.0</td>\n",
       "      <td>2022.0</td>\n",
       "      <td>1/17/2023</td>\n",
       "      <td>USA</td>\n",
       "      <td>CA</td>\n",
       "      <td>Tesla crashes into back of semi</td>\n",
       "      <td>1.0</td>\n",
       "      <td>1</td>\n",
       "      <td>-</td>\n",
       "      <td>-</td>\n",
       "      <td>...</td>\n",
       "      <td>-</td>\n",
       "      <td>-</td>\n",
       "      <td>https://web.archive.org/web/20221222203930/ht...</td>\n",
       "      <td>https://web.archive.org/web/20221222203930/ht...</td>\n",
       "      <td>https://web.archive.org/web/20230118162813/ht...</td>\n",
       "      <td>NaN</td>\n",
       "      <td>NaN</td>\n",
       "      <td>NaN</td>\n",
       "      <td>NaN</td>\n",
       "      <td>NaN</td>\n",
       "    </tr>\n",
       "    <tr>\n",
       "      <th>1</th>\n",
       "      <td>293.0</td>\n",
       "      <td>2022.0</td>\n",
       "      <td>1/7/2023</td>\n",
       "      <td>Canada</td>\n",
       "      <td>-</td>\n",
       "      <td>Tesla crashes</td>\n",
       "      <td>1.0</td>\n",
       "      <td>1</td>\n",
       "      <td>-</td>\n",
       "      <td>-</td>\n",
       "      <td>...</td>\n",
       "      <td>-</td>\n",
       "      <td>-</td>\n",
       "      <td>https://web.archive.org/web/20221222203930/ht...</td>\n",
       "      <td>https://web.archive.org/web/20221222203930/ht...</td>\n",
       "      <td>https://web.archive.org/web/20230109041434/ht...</td>\n",
       "      <td>NaN</td>\n",
       "      <td>Taren Singh Lal</td>\n",
       "      <td>NaN</td>\n",
       "      <td>NaN</td>\n",
       "      <td>NaN</td>\n",
       "    </tr>\n",
       "    <tr>\n",
       "      <th>2</th>\n",
       "      <td>292.0</td>\n",
       "      <td>2022.0</td>\n",
       "      <td>1/7/2023</td>\n",
       "      <td>USA</td>\n",
       "      <td>WA</td>\n",
       "      <td>Tesla hits pole, catches on fire</td>\n",
       "      <td>1.0</td>\n",
       "      <td>-</td>\n",
       "      <td>1</td>\n",
       "      <td>-</td>\n",
       "      <td>...</td>\n",
       "      <td>-</td>\n",
       "      <td>-</td>\n",
       "      <td>https://web.archive.org/web/20221222203930/ht...</td>\n",
       "      <td>https://web.archive.org/web/20221222203930/ht...</td>\n",
       "      <td>https://web.archive.org/web/20230107232745/ht...</td>\n",
       "      <td>NaN</td>\n",
       "      <td>NaN</td>\n",
       "      <td>NaN</td>\n",
       "      <td>NaN</td>\n",
       "      <td>NaN</td>\n",
       "    </tr>\n",
       "    <tr>\n",
       "      <th>3</th>\n",
       "      <td>291.0</td>\n",
       "      <td>2022.0</td>\n",
       "      <td>12/22/2022</td>\n",
       "      <td>USA</td>\n",
       "      <td>GA</td>\n",
       "      <td>Tesla crashes and burns</td>\n",
       "      <td>1.0</td>\n",
       "      <td>1</td>\n",
       "      <td>-</td>\n",
       "      <td>-</td>\n",
       "      <td>...</td>\n",
       "      <td>-</td>\n",
       "      <td>-</td>\n",
       "      <td>https://web.archive.org/web/20221222203930/ht...</td>\n",
       "      <td>https://web.archive.org/web/20221222203930/ht...</td>\n",
       "      <td>https://web.archive.org/web/20221222203930/ht...</td>\n",
       "      <td>NaN</td>\n",
       "      <td>NaN</td>\n",
       "      <td>NaN</td>\n",
       "      <td>NaN</td>\n",
       "      <td>NaN</td>\n",
       "    </tr>\n",
       "    <tr>\n",
       "      <th>4</th>\n",
       "      <td>290.0</td>\n",
       "      <td>2022.0</td>\n",
       "      <td>12/19/2022</td>\n",
       "      <td>Canada</td>\n",
       "      <td>-</td>\n",
       "      <td>Tesla crashes into storefront</td>\n",
       "      <td>1.0</td>\n",
       "      <td>-</td>\n",
       "      <td>-</td>\n",
       "      <td>-</td>\n",
       "      <td>...</td>\n",
       "      <td>-</td>\n",
       "      <td>-</td>\n",
       "      <td>https://web.archive.org/web/20221223203725/ht...</td>\n",
       "      <td>https://web.archive.org/web/20221223203725/ht...</td>\n",
       "      <td>https://web.archive.org/web/20221223203725/ht...</td>\n",
       "      <td>NaN</td>\n",
       "      <td>NaN</td>\n",
       "      <td>NaN</td>\n",
       "      <td>NaN</td>\n",
       "      <td>NaN</td>\n",
       "    </tr>\n",
       "  </tbody>\n",
       "</table>\n",
       "<p>5 rows × 24 columns</p>\n",
       "</div>"
      ],
      "text/plain": [
       "   Case #    Year        Date  Country   State   \\\n",
       "0   294.0  2022.0   1/17/2023      USA       CA   \n",
       "1   293.0  2022.0    1/7/2023   Canada        -   \n",
       "2   292.0  2022.0    1/7/2023      USA       WA   \n",
       "3   291.0  2022.0  12/22/2022      USA       GA   \n",
       "4   290.0  2022.0  12/19/2022   Canada        -   \n",
       "\n",
       "                         Description    Deaths   Tesla driver   \\\n",
       "0    Tesla crashes into back of semi        1.0             1    \n",
       "1                      Tesla crashes        1.0             1    \n",
       "2   Tesla hits pole, catches on fire        1.0             -    \n",
       "3            Tesla crashes and burns        1.0             1    \n",
       "4      Tesla crashes into storefront        1.0             -    \n",
       "\n",
       "   Tesla occupant   Other vehicle   ...  Verified Tesla Autopilot Deaths   \\\n",
       "0               -               -   ...                                -    \n",
       "1               -               -   ...                                -    \n",
       "2               1               -   ...                                -    \n",
       "3               -               -   ...                                -    \n",
       "4               -               -   ...                                -    \n",
       "\n",
       "   Verified Tesla Autopilot Deaths + All Deaths Reported to NHTSA SGO   \\\n",
       "0                                                 -                      \n",
       "1                                                 -                      \n",
       "2                                                 -                      \n",
       "3                                                 -                      \n",
       "4                                                 -                      \n",
       "\n",
       "                                         Unnamed: 16  \\\n",
       "0   https://web.archive.org/web/20221222203930/ht...   \n",
       "1   https://web.archive.org/web/20221222203930/ht...   \n",
       "2   https://web.archive.org/web/20221222203930/ht...   \n",
       "3   https://web.archive.org/web/20221222203930/ht...   \n",
       "4   https://web.archive.org/web/20221223203725/ht...   \n",
       "\n",
       "                                         Unnamed: 17  \\\n",
       "0   https://web.archive.org/web/20221222203930/ht...   \n",
       "1   https://web.archive.org/web/20221222203930/ht...   \n",
       "2   https://web.archive.org/web/20221222203930/ht...   \n",
       "3   https://web.archive.org/web/20221222203930/ht...   \n",
       "4   https://web.archive.org/web/20221223203725/ht...   \n",
       "\n",
       "                                             Source   Note   \\\n",
       "0   https://web.archive.org/web/20230118162813/ht...    NaN   \n",
       "1   https://web.archive.org/web/20230109041434/ht...    NaN   \n",
       "2   https://web.archive.org/web/20230107232745/ht...    NaN   \n",
       "3   https://web.archive.org/web/20221222203930/ht...    NaN   \n",
       "4   https://web.archive.org/web/20221223203725/ht...    NaN   \n",
       "\n",
       "         Deceased 1   Deceased 2   Deceased 3   Deceased 4   \n",
       "0                NaN          NaN          NaN          NaN  \n",
       "1   Taren Singh Lal           NaN          NaN          NaN  \n",
       "2                NaN          NaN          NaN          NaN  \n",
       "3                NaN          NaN          NaN          NaN  \n",
       "4                NaN          NaN          NaN          NaN  \n",
       "\n",
       "[5 rows x 24 columns]"
      ]
     },
     "execution_count": 5,
     "metadata": {},
     "output_type": "execute_result"
    }
   ],
   "source": [
    "df.head()"
   ]
  },
  {
   "cell_type": "code",
   "execution_count": 6,
   "id": "7695ce94",
   "metadata": {},
   "outputs": [
    {
     "name": "stdout",
     "output_type": "stream",
     "text": [
      "(307, 24)\n",
      "<class 'pandas.core.frame.DataFrame'>\n",
      "RangeIndex: 307 entries, 0 to 306\n",
      "Data columns (total 24 columns):\n",
      " #   Column                                                                Non-Null Count  Dtype  \n",
      "---  ------                                                                --------------  -----  \n",
      " 0   Case #                                                                294 non-null    float64\n",
      " 1   Year                                                                  294 non-null    float64\n",
      " 2   Date                                                                  294 non-null    object \n",
      " 3    Country                                                              294 non-null    object \n",
      " 4    State                                                                294 non-null    object \n",
      " 5    Description                                                          295 non-null    object \n",
      " 6    Deaths                                                               299 non-null    float64\n",
      " 7    Tesla driver                                                         294 non-null    object \n",
      " 8    Tesla occupant                                                       290 non-null    object \n",
      " 9    Other vehicle                                                        295 non-null    object \n",
      " 10   Cyclists/ Peds                                                       296 non-null    object \n",
      " 11   TSLA+cycl / peds                                                     297 non-null    object \n",
      " 12   Model                                                                296 non-null    object \n",
      " 13   Autopilot claimed                                                    281 non-null    object \n",
      " 14   Verified Tesla Autopilot Deaths                                      297 non-null    object \n",
      " 15   Verified Tesla Autopilot Deaths + All Deaths Reported to NHTSA SGO   296 non-null    object \n",
      " 16  Unnamed: 16                                                           292 non-null    object \n",
      " 17  Unnamed: 17                                                           289 non-null    object \n",
      " 18   Source                                                               297 non-null    object \n",
      " 19   Note                                                                 9 non-null      object \n",
      " 20   Deceased 1                                                           87 non-null     object \n",
      " 21   Deceased 2                                                           17 non-null     object \n",
      " 22   Deceased 3                                                           4 non-null      object \n",
      " 23   Deceased 4                                                           0 non-null      float64\n",
      "dtypes: float64(4), object(20)\n",
      "memory usage: 57.7+ KB\n"
     ]
    }
   ],
   "source": [
    "print(df.shape)\n",
    "df.info()"
   ]
  },
  {
   "cell_type": "markdown",
   "id": "af173267",
   "metadata": {},
   "source": [
    "### Dropping irrelevant columns"
   ]
  },
  {
   "cell_type": "code",
   "execution_count": 7,
   "id": "221f5600",
   "metadata": {},
   "outputs": [],
   "source": [
    "df = df.drop(columns=['Unnamed: 16','Unnamed: 17'])"
   ]
  },
  {
   "cell_type": "code",
   "execution_count": 8,
   "id": "3108d3fa",
   "metadata": {},
   "outputs": [
    {
     "data": {
      "text/plain": [
       "Index(['Case #', 'Year', 'Date', ' Country ', ' State ', ' Description ',\n",
       "       ' Deaths ', ' Tesla driver ', ' Tesla occupant ', ' Other vehicle ',\n",
       "       ' Cyclists/ Peds ', ' TSLA+cycl / peds ', ' Model ',\n",
       "       ' Autopilot claimed ', ' Verified Tesla Autopilot Deaths ',\n",
       "       ' Verified Tesla Autopilot Deaths + All Deaths Reported to NHTSA SGO ',\n",
       "       ' Source ', ' Note ', ' Deceased 1 ', ' Deceased 2 ', ' Deceased 3 ',\n",
       "       ' Deceased 4 '],\n",
       "      dtype='object')"
      ]
     },
     "execution_count": 8,
     "metadata": {},
     "output_type": "execute_result"
    }
   ],
   "source": [
    "df.columns"
   ]
  },
  {
   "cell_type": "markdown",
   "id": "23cdbb76",
   "metadata": {},
   "source": [
    "### Removing white spaces and renaming column names"
   ]
  },
  {
   "cell_type": "code",
   "execution_count": 9,
   "id": "3835d327",
   "metadata": {},
   "outputs": [
    {
     "data": {
      "text/plain": [
       "Index(['Case #', 'Year', 'Date', 'Country', 'State', 'Description', 'Deaths',\n",
       "       'Tesla driver', 'Tesla occupant', 'Other vehicle', 'Cyclists/ Peds',\n",
       "       'TSLA+cycl / peds', 'Model', 'Autopilot claimed',\n",
       "       'Verified Tesla Autopilot Deaths',\n",
       "       'Verified Tesla Autopilot Deaths + All Deaths Reported to NHTSA SGO',\n",
       "       'Source', 'Note', 'Deceased 1', 'Deceased 2', 'Deceased 3',\n",
       "       'Deceased 4'],\n",
       "      dtype='object')"
      ]
     },
     "execution_count": 9,
     "metadata": {},
     "output_type": "execute_result"
    }
   ],
   "source": [
    "df.columns = df.columns.str.strip()\n",
    "df.columns"
   ]
  },
  {
   "cell_type": "code",
   "execution_count": 10,
   "id": "29073ff1",
   "metadata": {},
   "outputs": [],
   "source": [
    "## rename columns\n",
    "\n",
    "df = df.rename(columns={'Case #':'Case', 'Tesla driver':'Tesla_Driver','Tesla occupant':'Tesla_Occupant','Cyclists/ Peds':'Cyclist_Ped',\n",
    "               'TSLA+cycl / peds':'Tesla_cyclist_ped','Autopilot claimed':'Autopilot_claimed',\n",
    "               'Verified Tesla Autopilot Deaths':'Verified_T_autoP_death',\n",
    "               'Verified Tesla Autopilot Deaths + All Deaths Reported to NHTSA SGO':'Verified_T_autoP_death_NHTSA',\n",
    "               'Deceased 1':'Deceased_1','Deceased 2':'Deceased_2','Deceased 3':'Deceased_3','Deceased 4':'Deceased_4','Other vehicle':'Other_vehicle'})"
   ]
  },
  {
   "cell_type": "code",
   "execution_count": 11,
   "id": "788a935e",
   "metadata": {},
   "outputs": [
    {
     "data": {
      "text/plain": [
       "Index(['Case', 'Year', 'Date', 'Country', 'State', 'Description', 'Deaths',\n",
       "       'Tesla_Driver', 'Tesla_Occupant', 'Other_vehicle', 'Cyclist_Ped',\n",
       "       'Tesla_cyclist_ped', 'Model', 'Autopilot_claimed',\n",
       "       'Verified_T_autoP_death', 'Verified_T_autoP_death_NHTSA', 'Source',\n",
       "       'Note', 'Deceased_1', 'Deceased_2', 'Deceased_3', 'Deceased_4'],\n",
       "      dtype='object')"
      ]
     },
     "execution_count": 11,
     "metadata": {},
     "output_type": "execute_result"
    }
   ],
   "source": [
    "df.columns"
   ]
  },
  {
   "cell_type": "markdown",
   "id": "16c130d4",
   "metadata": {},
   "source": [
    "### Removing duplicate records"
   ]
  },
  {
   "cell_type": "code",
   "execution_count": 12,
   "id": "97b9bb79",
   "metadata": {},
   "outputs": [
    {
     "name": "stdout",
     "output_type": "stream",
     "text": [
      "Shape before dropping duplicates: (307, 22)\n",
      "Shape after dropping duplicates: (303, 22)\n"
     ]
    }
   ],
   "source": [
    "print(f'Shape before dropping duplicates: {df.shape}')\n",
    "df.drop_duplicates(inplace=True)\n",
    "print(f'Shape after dropping duplicates: {df.shape}')"
   ]
  },
  {
   "cell_type": "code",
   "execution_count": 13,
   "id": "86c665f9",
   "metadata": {},
   "outputs": [],
   "source": [
    "df = df[~df['Case'].isnull()]   ## notna()/notnull()/isnull()/isna()"
   ]
  },
  {
   "cell_type": "code",
   "execution_count": 14,
   "id": "3025b1f9",
   "metadata": {},
   "outputs": [
    {
     "name": "stdout",
     "output_type": "stream",
     "text": [
      "(294, 22)\n",
      "<class 'pandas.core.frame.DataFrame'>\n",
      "Index: 294 entries, 0 to 293\n",
      "Data columns (total 22 columns):\n",
      " #   Column                        Non-Null Count  Dtype  \n",
      "---  ------                        --------------  -----  \n",
      " 0   Case                          294 non-null    float64\n",
      " 1   Year                          294 non-null    float64\n",
      " 2   Date                          294 non-null    object \n",
      " 3   Country                       294 non-null    object \n",
      " 4   State                         294 non-null    object \n",
      " 5   Description                   294 non-null    object \n",
      " 6   Deaths                        294 non-null    float64\n",
      " 7   Tesla_Driver                  289 non-null    object \n",
      " 8   Tesla_Occupant                285 non-null    object \n",
      " 9   Other_vehicle                 290 non-null    object \n",
      " 10  Cyclist_Ped                   291 non-null    object \n",
      " 11  Tesla_cyclist_ped             292 non-null    object \n",
      " 12  Model                         294 non-null    object \n",
      " 13  Autopilot_claimed             276 non-null    object \n",
      " 14  Verified_T_autoP_death        290 non-null    object \n",
      " 15  Verified_T_autoP_death_NHTSA  293 non-null    object \n",
      " 16  Source                        294 non-null    object \n",
      " 17  Note                          9 non-null      object \n",
      " 18  Deceased_1                    87 non-null     object \n",
      " 19  Deceased_2                    17 non-null     object \n",
      " 20  Deceased_3                    4 non-null      object \n",
      " 21  Deceased_4                    0 non-null      float64\n",
      "dtypes: float64(4), object(18)\n",
      "memory usage: 52.8+ KB\n"
     ]
    }
   ],
   "source": [
    "print(df.shape)\n",
    "df.info()"
   ]
  },
  {
   "cell_type": "code",
   "execution_count": 15,
   "id": "f9d05ec7",
   "metadata": {},
   "outputs": [],
   "source": [
    "col_names = ['Case', 'Year','Deaths','Tesla_Driver','Tesla_Occupant','Other_vehicle','Cyclist_Ped','Tesla_cyclist_ped',\n",
    "            'Autopilot_claimed','Verified_T_autoP_death','Verified_T_autoP_death_NHTSA']\n",
    "\n",
    "for col in col_names:\n",
    "    df[col] = pd.to_numeric(df[col],errors='coerce').astype('Int64')"
   ]
  },
  {
   "cell_type": "code",
   "execution_count": 16,
   "id": "7718ad63",
   "metadata": {},
   "outputs": [
    {
     "data": {
      "text/plain": [
       "Case                            294\n",
       "Year                            294\n",
       "Date                            294\n",
       "Country                         294\n",
       "State                           294\n",
       "Description                     294\n",
       "Deaths                          294\n",
       "Tesla_Driver                    117\n",
       "Tesla_Occupant                   43\n",
       "Other_vehicle                   110\n",
       "Cyclist_Ped                      44\n",
       "Tesla_cyclist_ped               181\n",
       "Model                           294\n",
       "Autopilot_claimed                35\n",
       "Verified_T_autoP_death           16\n",
       "Verified_T_autoP_death_NHTSA     24\n",
       "Source                          294\n",
       "Note                              9\n",
       "Deceased_1                       87\n",
       "Deceased_2                       17\n",
       "Deceased_3                        4\n",
       "Deceased_4                        0\n",
       "dtype: int64"
      ]
     },
     "execution_count": 16,
     "metadata": {},
     "output_type": "execute_result"
    }
   ],
   "source": [
    "df.notnull().sum()"
   ]
  },
  {
   "cell_type": "code",
   "execution_count": 17,
   "id": "70e2b7fa",
   "metadata": {},
   "outputs": [],
   "source": [
    "df['Date'] = pd.to_datetime(df['Date'])"
   ]
  },
  {
   "cell_type": "markdown",
   "id": "f6fc4e96",
   "metadata": {},
   "source": [
    "#### Observation: For few records, value in year column doesnt match with the year in date column. Hence dropping the year column and creating it again"
   ]
  },
  {
   "cell_type": "code",
   "execution_count": 18,
   "id": "1f890c43",
   "metadata": {},
   "outputs": [],
   "source": [
    "df.drop(columns=['Year'], inplace=True)"
   ]
  },
  {
   "cell_type": "code",
   "execution_count": 19,
   "id": "b9b87a73",
   "metadata": {},
   "outputs": [
    {
     "data": {
      "text/plain": [
       "Index(['Case', 'Date', 'Country', 'State', 'Description', 'Deaths',\n",
       "       'Tesla_Driver', 'Tesla_Occupant', 'Other_vehicle', 'Cyclist_Ped',\n",
       "       'Tesla_cyclist_ped', 'Model', 'Autopilot_claimed',\n",
       "       'Verified_T_autoP_death', 'Verified_T_autoP_death_NHTSA', 'Source',\n",
       "       'Note', 'Deceased_1', 'Deceased_2', 'Deceased_3', 'Deceased_4'],\n",
       "      dtype='object')"
      ]
     },
     "execution_count": 19,
     "metadata": {},
     "output_type": "execute_result"
    }
   ],
   "source": [
    "df.columns"
   ]
  },
  {
   "cell_type": "code",
   "execution_count": 20,
   "id": "cdef3ea9",
   "metadata": {},
   "outputs": [],
   "source": [
    "df['Year'] = df['Date'].dt.year"
   ]
  },
  {
   "cell_type": "code",
   "execution_count": 21,
   "id": "bf7ea769",
   "metadata": {},
   "outputs": [],
   "source": [
    "df['Month'] = df['Date'].dt.month_name()"
   ]
  },
  {
   "cell_type": "code",
   "execution_count": 22,
   "id": "9c557c6b",
   "metadata": {},
   "outputs": [],
   "source": [
    "df['Day'] = df['Date'].dt.day_name()"
   ]
  },
  {
   "cell_type": "code",
   "execution_count": 23,
   "id": "a1d34a60",
   "metadata": {},
   "outputs": [
    {
     "name": "stdout",
     "output_type": "stream",
     "text": [
      "<class 'pandas.core.frame.DataFrame'>\n",
      "Index: 294 entries, 0 to 293\n",
      "Data columns (total 13 columns):\n",
      " #   Column                        Non-Null Count  Dtype  \n",
      "---  ------                        --------------  -----  \n",
      " 0   Tesla_Driver                  117 non-null    Int64  \n",
      " 1   Tesla_Occupant                43 non-null     Int64  \n",
      " 2   Other_vehicle                 110 non-null    Int64  \n",
      " 3   Cyclist_Ped                   44 non-null     Int64  \n",
      " 4   Tesla_cyclist_ped             181 non-null    Int64  \n",
      " 5   Autopilot_claimed             35 non-null     Int64  \n",
      " 6   Verified_T_autoP_death        16 non-null     Int64  \n",
      " 7   Verified_T_autoP_death_NHTSA  24 non-null     Int64  \n",
      " 8   Note                          9 non-null      object \n",
      " 9   Deceased_1                    87 non-null     object \n",
      " 10  Deceased_2                    17 non-null     object \n",
      " 11  Deceased_3                    4 non-null      object \n",
      " 12  Deceased_4                    0 non-null      float64\n",
      "dtypes: Int64(8), float64(1), object(4)\n",
      "memory usage: 34.5+ KB\n"
     ]
    }
   ],
   "source": [
    "x_col = df.columns[df.isnull().sum() > 0]\n",
    "df[x_col].info()"
   ]
  },
  {
   "cell_type": "code",
   "execution_count": 24,
   "id": "06de9245",
   "metadata": {},
   "outputs": [],
   "source": [
    "for col in ['Tesla_Driver', 'Tesla_Occupant', 'Other_vehicle', 'Cyclist_Ped',\n",
    "       'Tesla_cyclist_ped', 'Autopilot_claimed', 'Verified_T_autoP_death',\n",
    "       'Verified_T_autoP_death_NHTSA']:\n",
    "    df[col] = df[col].fillna(0)"
   ]
  },
  {
   "cell_type": "code",
   "execution_count": 25,
   "id": "02a9ce0c",
   "metadata": {},
   "outputs": [
    {
     "name": "stdout",
     "output_type": "stream",
     "text": [
      "<class 'pandas.core.frame.DataFrame'>\n",
      "Index: 294 entries, 0 to 293\n",
      "Data columns (total 24 columns):\n",
      " #   Column                        Non-Null Count  Dtype         \n",
      "---  ------                        --------------  -----         \n",
      " 0   Case                          294 non-null    Int64         \n",
      " 1   Date                          294 non-null    datetime64[ns]\n",
      " 2   Country                       294 non-null    object        \n",
      " 3   State                         294 non-null    object        \n",
      " 4   Description                   294 non-null    object        \n",
      " 5   Deaths                        294 non-null    Int64         \n",
      " 6   Tesla_Driver                  294 non-null    Int64         \n",
      " 7   Tesla_Occupant                294 non-null    Int64         \n",
      " 8   Other_vehicle                 294 non-null    Int64         \n",
      " 9   Cyclist_Ped                   294 non-null    Int64         \n",
      " 10  Tesla_cyclist_ped             294 non-null    Int64         \n",
      " 11  Model                         294 non-null    object        \n",
      " 12  Autopilot_claimed             294 non-null    Int64         \n",
      " 13  Verified_T_autoP_death        294 non-null    Int64         \n",
      " 14  Verified_T_autoP_death_NHTSA  294 non-null    Int64         \n",
      " 15  Source                        294 non-null    object        \n",
      " 16  Note                          9 non-null      object        \n",
      " 17  Deceased_1                    87 non-null     object        \n",
      " 18  Deceased_2                    17 non-null     object        \n",
      " 19  Deceased_3                    4 non-null      object        \n",
      " 20  Deceased_4                    0 non-null      float64       \n",
      " 21  Year                          294 non-null    int32         \n",
      " 22  Month                         294 non-null    object        \n",
      " 23  Day                           294 non-null    object        \n",
      "dtypes: Int64(10), datetime64[ns](1), float64(1), int32(1), object(11)\n",
      "memory usage: 59.1+ KB\n"
     ]
    }
   ],
   "source": [
    "df.info()"
   ]
  },
  {
   "cell_type": "code",
   "execution_count": 26,
   "id": "bd9950e1",
   "metadata": {},
   "outputs": [],
   "source": [
    "col_list = ['Deceased_1','Deceased_2','Deceased_3','Deceased_4']\n",
    "for col in col_list:\n",
    "    df[col] = df[col].fillna(value='Nan')"
   ]
  },
  {
   "cell_type": "code",
   "execution_count": 32,
   "id": "c2e622dc",
   "metadata": {},
   "outputs": [],
   "source": [
    "mode_val = df['Note'].mode()[0]\n",
    "df['Note'] = df['Note'].fillna(value=mode_val)"
   ]
  },
  {
   "cell_type": "code",
   "execution_count": 52,
   "id": "8f974993",
   "metadata": {},
   "outputs": [],
   "source": [
    "df['State'] = df['State'].str.strip()\n",
    "df['Country'] = df['Country'].str.strip()\n",
    "df['Note'] = df['Note'].str.strip()"
   ]
  },
  {
   "cell_type": "markdown",
   "id": "1a5907c1",
   "metadata": {},
   "source": [
    "### EDA"
   ]
  },
  {
   "cell_type": "code",
   "execution_count": 35,
   "id": "565d4a8e",
   "metadata": {},
   "outputs": [],
   "source": [
    "import seaborn as sns"
   ]
  },
  {
   "cell_type": "code",
   "execution_count": 53,
   "id": "9160cb02",
   "metadata": {
    "scrolled": true
   },
   "outputs": [
    {
     "data": {
      "image/png": "[encoded data removed]",
      "text/plain": [
       "<Figure size 720x360 with 1 Axes>"
      ]
     },
     "metadata": {
      "needs_background": "light"
     },
     "output_type": "display_data"
    },
    {
     "data": {
      "image/png": "[encoded data removed]",
      "text/plain": [
       "<Figure size 720x360 with 1 Axes>"
      ]
     },
     "metadata": {
      "needs_background": "light"
     },
     "output_type": "display_data"
    },
    {
     "data": {
      "image/png": "[encoded data removed]",
      "text/plain": [
       "<Figure size 720x360 with 1 Axes>"
      ]
     },
     "metadata": {
      "needs_background": "light"
     },
     "output_type": "display_data"
    },
    {
     "data": {
      "image/png": "[encoded data removed]",
      "text/plain": [
       "<Figure size 720x360 with 1 Axes>"
      ]
     },
     "metadata": {
      "needs_background": "light"
     },
     "output_type": "display_data"
    },
    {
     "data": {
      "image/png": "[encoded data removed]",
      "text/plain": [
       "<Figure size 720x360 with 1 Axes>"
      ]
     },
     "metadata": {
      "needs_background": "light"
     },
     "output_type": "display_data"
    }
   ],
   "source": [
    "col_names = ['Country','State','Year','Month','Day']\n",
    "\n",
    "for col in col_names:\n",
    "    plt.figure(figsize=(10,5))\n",
    "    sns.countplot(data=df,x=col, palette='Set2')\n",
    "    plt.xticks(rotation=45)\n",
    "    plt.xlabel(f'{col}')\n",
    "    plt.ylabel('Accident Count')\n"
   ]
  },
  {
   "cell_type": "code",
   "execution_count": 45,
   "id": "fe113a8a",
   "metadata": {},
   "outputs": [
    {
     "data": {
      "text/plain": [
       "(Timestamp('2013-04-02 00:00:00'), Timestamp('2023-01-17 00:00:00'))"
      ]
     },
     "execution_count": 45,
     "metadata": {},
     "output_type": "execute_result"
    }
   ],
   "source": [
    "df['Date'].min(), df['Date'].max()"
   ]
  },
  {
   "cell_type": "markdown",
   "id": "34e9bfde",
   "metadata": {},
   "source": [
    "#### OBSERVATIONS\n",
    "\n",
    "Observation period: April'13 to Jan'23\n",
    "\n",
    "1. During the period, majory of the accidents happened in USA.\n",
    "2. California is the US state that witnessed the maximum number of accidents.\n",
    "3. The number of accidents is found to increase of the years although a drop was observed in 2020, which could be due to pandemic lockdown.\n",
    "4. The number of accidents increased in November and December. This may be related to seasonal factors such as poor weather or increased holiday travel, both of which can raise accident risk. Tesla accidents followed a similar trend.\n",
    "5. More accidents happened on statudays and sundays."
   ]
  },
  {
   "cell_type": "code",
   "execution_count": null,
   "id": "11c2b60e",
   "metadata": {},
   "outputs": [],
   "source": []
  },
  {
   "cell_type": "markdown",
   "id": "3d9efb49",
   "metadata": {},
   "source": [
    "What is the number of victims (deaths) in each accident?"
   ]
  },
  {
   "cell_type": "code",
   "execution_count": 69,
   "id": "49a3ac47",
   "metadata": {},
   "outputs": [
    {
     "data": {
      "text/plain": [
       "Text(0.5, 1.0, 'Distribution of Deaths per Accident')"
      ]
     },
     "execution_count": 69,
     "metadata": {},
     "output_type": "execute_result"
    },
    {
     "data": {
      "image/png": "[encoded data removed]",
      "text/plain": [
       "<Figure size 576x360 with 1 Axes>"
      ]
     },
     "metadata": {
      "needs_background": "light"
     },
     "output_type": "display_data"
    }
   ],
   "source": [
    "plt.figure(figsize=(8,5))\n",
    "sns.countplot(data=df,x='Deaths',palette='Blues_r')\n",
    "plt.xlabel('Number of Deaths')\n",
    "plt.ylabel('Number of accidents')\n",
    "plt.title('Distribution of Deaths per Accident')"
   ]
  },
  {
   "cell_type": "markdown",
   "id": "c54b660b",
   "metadata": {},
   "source": [
    "How many times did tesla drivers die?"
   ]
  },
  {
   "cell_type": "code",
   "execution_count": 87,
   "id": "f5a9b46f",
   "metadata": {},
   "outputs": [],
   "source": [
    "driver_death = df.groupby('Tesla_Driver')['Case'].count()"
   ]
  },
  {
   "cell_type": "code",
   "execution_count": 91,
   "id": "c7e948ba",
   "metadata": {},
   "outputs": [
    {
     "data": {
      "text/plain": [
       "Tesla_Driver\n",
       "0    60.204082\n",
       "1    39.795918\n",
       "Name: proportion, dtype: Float64"
      ]
     },
     "execution_count": 91,
     "metadata": {},
     "output_type": "execute_result"
    }
   ],
   "source": [
    "driver_death = 100* df.Tesla_Driver.value_counts(normalize=True)\n",
    "driver_death"
   ]
  },
  {
   "cell_type": "code",
   "execution_count": 93,
   "id": "ed79d75e",
   "metadata": {},
   "outputs": [
    {
     "data": {
      "text/plain": [
       "[Text(0, 0, 'Survived'), Text(1, 0, 'Died')]"
      ]
     },
     "execution_count": 93,
     "metadata": {},
     "output_type": "execute_result"
    },
    {
     "data": {
      "image/png": "[encoded data removed]",
      "text/plain": [
       "<Figure size 360x288 with 1 Axes>"
      ]
     },
     "metadata": {
      "needs_background": "light"
     },
     "output_type": "display_data"
    }
   ],
   "source": [
    "ax = driver_death.plot(kind='bar', figsize=(5,4))\n",
    "plt.xlabel('Driver Death Confirmed')\n",
    "plt.title('Reported Tesla Driver Fatalities by Death Status')\n",
    "plt.ylabel('Percentage of Cases (%)')\n",
    "ax.set_xticklabels(['Survived','Died'],rotation=0)"
   ]
  },
  {
   "cell_type": "markdown",
   "id": "b0278858",
   "metadata": {},
   "source": [
    "What is the proportion of events in which one or more occupants died?"
   ]
  },
  {
   "cell_type": "code",
   "execution_count": 97,
   "id": "f0a2f4fb",
   "metadata": {},
   "outputs": [
    {
     "data": {
      "text/plain": [
       "Tesla_Occupant\n",
       "0     85.37415\n",
       "1    13.265306\n",
       "2     1.020408\n",
       "3     0.340136\n",
       "Name: proportion, dtype: Float64"
      ]
     },
     "execution_count": 97,
     "metadata": {},
     "output_type": "execute_result"
    }
   ],
   "source": [
    "occupant_death = df.Tesla_Occupant.value_counts(normalize=True)\n",
    "occupant_death"
   ]
  },
  {
   "cell_type": "code",
   "execution_count": 104,
   "id": "82a3b631",
   "metadata": {},
   "outputs": [
    {
     "data": {
      "text/plain": [
       "Text(0.5, 1.0, 'Occupant deaths Vs Total cases')"
      ]
     },
     "execution_count": 104,
     "metadata": {},
     "output_type": "execute_result"
    },
    {
     "data": {
      "image/png": "[encoded data removed]",
      "text/plain": [
       "<Figure size 432x360 with 1 Axes>"
      ]
     },
     "metadata": {
      "needs_background": "light"
     },
     "output_type": "display_data"
    }
   ],
   "source": [
    "plt.figure(figsize=(6,5))\n",
    "sns.barplot(data=occupant_death)\n",
    "plt.xlabel('No: of occupants died')\n",
    "plt.ylabel('Percentage of cases (%)')\n",
    "plt.title('Occupant deaths Vs Total cases')"
   ]
  },
  {
   "cell_type": "markdown",
   "id": "c36daf47",
   "metadata": {},
   "source": [
    "`What is the distribution of events in which the vehicle hit a cyclist or a pedestrian?"
   ]
  },
  {
   "cell_type": "code",
   "execution_count": 116,
   "id": "899cb279",
   "metadata": {},
   "outputs": [
    {
     "data": {
      "text/plain": [
       "Cyclist_Ped\n",
       "0    250\n",
       "1     42\n",
       "2      2\n",
       "Name: count, dtype: Int64"
      ]
     },
     "execution_count": 116,
     "metadata": {},
     "output_type": "execute_result"
    }
   ],
   "source": [
    "ped_cyc = df.Cyclist_Ped.value_counts()\n",
    "ped_cyc"
   ]
  },
  {
   "cell_type": "code",
   "execution_count": 145,
   "id": "7065c3a1",
   "metadata": {},
   "outputs": [
    {
     "data": {
      "text/plain": [
       "([<matplotlib.patches.Wedge at 0x2ca00b64cd0>,\n",
       "  <matplotlib.patches.Wedge at 0x2ca00b64c10>,\n",
       "  <matplotlib.patches.Wedge at 0x2ca00b73a00>],\n",
       " [Text(-0.9806403273672749, 0.49834179870948414, ''),\n",
       "  Text(0.9697668774388349, -0.5191841710053687, ''),\n",
       "  Text(1.0997487980886085, -0.023507043681869864, '')],\n",
       " [Text(-0.5348947240185136, 0.2718227992960822, '85.0'),\n",
       "  Text(0.5289637513302735, -0.2831913660029283, '14.3'),\n",
       "  Text(0.5998629807756045, -0.01282202382647447, '0.7')])"
      ]
     },
     "execution_count": 145,
     "metadata": {},
     "output_type": "execute_result"
    },
    {
     "data": {
      "image/png": "[encoded data removed]",
      "text/plain": [
       "<Figure size 432x288 with 1 Axes>"
      ]
     },
     "metadata": {},
     "output_type": "display_data"
    }
   ],
   "source": [
    "plt.pie(ped_cyc,autopct='%.1f')"
   ]
  },
  {
   "cell_type": "markdown",
   "id": "b28160b9",
   "metadata": {},
   "source": [
    "How many times did the accident involve the death of an occupant or driver of a Tesla along with a cyclist or pedestrian?"
   ]
  },
  {
   "cell_type": "code",
   "execution_count": 125,
   "id": "a9d93ff4",
   "metadata": {},
   "outputs": [],
   "source": [
    "critical_cases = df[((df['Tesla_Occupant'] > 0) | (df['Tesla_Driver'] > 0)) & ((df['Tesla_cyclist_ped']>0) | (df['Cyclist_Ped'] > 0))]"
   ]
  },
  {
   "cell_type": "code",
   "execution_count": 128,
   "id": "5a69b719",
   "metadata": {},
   "outputs": [
    {
     "data": {
      "text/plain": [
       "131"
      ]
     },
     "execution_count": 128,
     "metadata": {},
     "output_type": "execute_result"
    }
   ],
   "source": [
    "critical_cases.shape[0]"
   ]
  },
  {
   "cell_type": "markdown",
   "id": "20da465c",
   "metadata": {},
   "source": [
    "What is the frequency of Tesla colliding with other vehicles?"
   ]
  },
  {
   "cell_type": "code",
   "execution_count": 191,
   "id": "726ee8ca",
   "metadata": {},
   "outputs": [],
   "source": [
    "other_vehicle_collision = 100*df.Other_vehicle.value_counts(normalize=True)"
   ]
  },
  {
   "cell_type": "code",
   "execution_count": 196,
   "id": "5d9520f3",
   "metadata": {},
   "outputs": [],
   "source": [
    "other_vehicle_collision_df = other_vehicle_collision.reset_index()"
   ]
  },
  {
   "cell_type": "code",
   "execution_count": 197,
   "id": "7cf3bf4f",
   "metadata": {},
   "outputs": [
    {
     "data": {
      "text/html": [
       "<div>\n",
       "<style scoped>\n",
       "    .dataframe tbody tr th:only-of-type {\n",
       "        vertical-align: middle;\n",
       "    }\n",
       "\n",
       "    .dataframe tbody tr th {\n",
       "        vertical-align: top;\n",
       "    }\n",
       "\n",
       "    .dataframe thead th {\n",
       "        text-align: right;\n",
       "    }\n",
       "</style>\n",
       "<table border=\"1\" class=\"dataframe\">\n",
       "  <thead>\n",
       "    <tr style=\"text-align: right;\">\n",
       "      <th></th>\n",
       "      <th>Other_vehicle</th>\n",
       "      <th>proportion</th>\n",
       "    </tr>\n",
       "  </thead>\n",
       "  <tbody>\n",
       "    <tr>\n",
       "      <th>0</th>\n",
       "      <td>0</td>\n",
       "      <td>62.585034</td>\n",
       "    </tr>\n",
       "    <tr>\n",
       "      <th>1</th>\n",
       "      <td>1</td>\n",
       "      <td>32.312925</td>\n",
       "    </tr>\n",
       "    <tr>\n",
       "      <th>2</th>\n",
       "      <td>2</td>\n",
       "      <td>3.741497</td>\n",
       "    </tr>\n",
       "    <tr>\n",
       "      <th>3</th>\n",
       "      <td>3</td>\n",
       "      <td>1.020408</td>\n",
       "    </tr>\n",
       "    <tr>\n",
       "      <th>4</th>\n",
       "      <td>4</td>\n",
       "      <td>0.340136</td>\n",
       "    </tr>\n",
       "  </tbody>\n",
       "</table>\n",
       "</div>"
      ],
      "text/plain": [
       "   Other_vehicle  proportion\n",
       "0              0   62.585034\n",
       "1              1   32.312925\n",
       "2              2    3.741497\n",
       "3              3    1.020408\n",
       "4              4    0.340136"
      ]
     },
     "execution_count": 197,
     "metadata": {},
     "output_type": "execute_result"
    }
   ],
   "source": [
    "other_vehicle_collision_df"
   ]
  },
  {
   "cell_type": "code",
   "execution_count": 206,
   "id": "0f5cea59",
   "metadata": {},
   "outputs": [
    {
     "data": {
      "text/html": [
       "<div>\n",
       "<style scoped>\n",
       "    .dataframe tbody tr th:only-of-type {\n",
       "        vertical-align: middle;\n",
       "    }\n",
       "\n",
       "    .dataframe tbody tr th {\n",
       "        vertical-align: top;\n",
       "    }\n",
       "\n",
       "    .dataframe thead th {\n",
       "        text-align: right;\n",
       "    }\n",
       "</style>\n",
       "<table border=\"1\" class=\"dataframe\">\n",
       "  <thead>\n",
       "    <tr style=\"text-align: right;\">\n",
       "      <th></th>\n",
       "      <th>Other_vehicle</th>\n",
       "      <th>proportion</th>\n",
       "      <th>Collision_otherVehicle</th>\n",
       "    </tr>\n",
       "  </thead>\n",
       "  <tbody>\n",
       "    <tr>\n",
       "      <th>0</th>\n",
       "      <td>0</td>\n",
       "      <td>62.585034</td>\n",
       "      <td>0</td>\n",
       "    </tr>\n",
       "    <tr>\n",
       "      <th>1</th>\n",
       "      <td>1</td>\n",
       "      <td>32.312925</td>\n",
       "      <td>1</td>\n",
       "    </tr>\n",
       "    <tr>\n",
       "      <th>2</th>\n",
       "      <td>2</td>\n",
       "      <td>3.741497</td>\n",
       "      <td>1</td>\n",
       "    </tr>\n",
       "    <tr>\n",
       "      <th>3</th>\n",
       "      <td>3</td>\n",
       "      <td>1.020408</td>\n",
       "      <td>1</td>\n",
       "    </tr>\n",
       "    <tr>\n",
       "      <th>4</th>\n",
       "      <td>4</td>\n",
       "      <td>0.340136</td>\n",
       "      <td>1</td>\n",
       "    </tr>\n",
       "  </tbody>\n",
       "</table>\n",
       "</div>"
      ],
      "text/plain": [
       "   Other_vehicle  proportion  Collision_otherVehicle\n",
       "0              0   62.585034                       0\n",
       "1              1   32.312925                       1\n",
       "2              2    3.741497                       1\n",
       "3              3    1.020408                       1\n",
       "4              4    0.340136                       1"
      ]
     },
     "execution_count": 206,
     "metadata": {},
     "output_type": "execute_result"
    }
   ],
   "source": [
    "other_vehicle_collision_df['Collision_otherVehicle'] = other_vehicle_collision_df['Other_vehicle'].apply(lambda x: 0 if x==0 else 1)\n",
    "other_vehicle_collision_df"
   ]
  },
  {
   "cell_type": "code",
   "execution_count": 210,
   "id": "3008c31c",
   "metadata": {},
   "outputs": [
    {
     "data": {
      "text/html": [
       "<div>\n",
       "<style scoped>\n",
       "    .dataframe tbody tr th:only-of-type {\n",
       "        vertical-align: middle;\n",
       "    }\n",
       "\n",
       "    .dataframe tbody tr th {\n",
       "        vertical-align: top;\n",
       "    }\n",
       "\n",
       "    .dataframe thead th {\n",
       "        text-align: right;\n",
       "    }\n",
       "</style>\n",
       "<table border=\"1\" class=\"dataframe\">\n",
       "  <thead>\n",
       "    <tr style=\"text-align: right;\">\n",
       "      <th></th>\n",
       "      <th>Collision_otherVehicle</th>\n",
       "      <th>proportion</th>\n",
       "    </tr>\n",
       "  </thead>\n",
       "  <tbody>\n",
       "    <tr>\n",
       "      <th>0</th>\n",
       "      <td>0</td>\n",
       "      <td>62.585034</td>\n",
       "    </tr>\n",
       "    <tr>\n",
       "      <th>1</th>\n",
       "      <td>1</td>\n",
       "      <td>37.414966</td>\n",
       "    </tr>\n",
       "  </tbody>\n",
       "</table>\n",
       "</div>"
      ],
      "text/plain": [
       "   Collision_otherVehicle  proportion\n",
       "0                       0   62.585034\n",
       "1                       1   37.414966"
      ]
     },
     "execution_count": 210,
     "metadata": {},
     "output_type": "execute_result"
    }
   ],
   "source": [
    "other_vehicle_collision_df.groupby(['Collision_otherVehicle']).agg({'proportion':'sum'}).reset_index()"
   ]
  },
  {
   "cell_type": "markdown",
   "id": "d585bd3b",
   "metadata": {},
   "source": [
    "Study the event distribution across models"
   ]
  },
  {
   "cell_type": "code",
   "execution_count": 141,
   "id": "2e708810",
   "metadata": {},
   "outputs": [],
   "source": [
    "model_event_distribution = 100*df.Model.value_counts(normalize=True)"
   ]
  },
  {
   "cell_type": "code",
   "execution_count": 147,
   "id": "da8854b6",
   "metadata": {},
   "outputs": [
    {
     "data": {
      "text/plain": [
       "([<matplotlib.patches.Wedge at 0x2ca7eb1fc40>,\n",
       "  <matplotlib.patches.Wedge at 0x2ca00bf0b50>,\n",
       "  <matplotlib.patches.Wedge at 0x2ca7c1ba370>,\n",
       "  <matplotlib.patches.Wedge at 0x2ca7c399520>,\n",
       "  <matplotlib.patches.Wedge at 0x2ca7c280430>,\n",
       "  <matplotlib.patches.Wedge at 0x2ca7e9ef3a0>,\n",
       "  <matplotlib.patches.Wedge at 0x2ca7ead9850>],\n",
       " [Text(-0.39091082888764567, 1.0281968312820138, ''),\n",
       "  Text(-0.3909099136881574, -1.0281971792318425, ''),\n",
       "  Text(0.5601480235276475, -0.946696462303557, ''),\n",
       "  Text(0.9961091620675161, -0.46665462308344385, ''),\n",
       "  Text(1.0877139535823626, -0.16394619599803506, ''),\n",
       "  Text(1.099434836319894, -0.03525678213121692, ''),\n",
       "  Text(1.0999372043616131, -0.011753572272260563, '')],\n",
       " [Text(-0.21322408848417035, 0.5608346352447348, '61.6'),\n",
       "  Text(-0.21322358928444948, -0.5608348250355504, '15.3'),\n",
       "  Text(0.30553528556053494, -0.5163798885292129, '13.3'),\n",
       "  Text(0.543332270218645, -0.2545388853182421, '5.8'),\n",
       "  Text(0.5932985201358341, -0.08942519781711002, '3.4'),\n",
       "  Text(0.5996917289017603, -0.01923097207157286, '0.3'),\n",
       "  Text(0.599965747833607, -0.006411039421233034, '0.3')])"
      ]
     },
     "execution_count": 147,
     "metadata": {},
     "output_type": "execute_result"
    },
    {
     "data": {
      "image/png": "[encoded data removed]",
      "text/plain": [
       "<Figure size 720x360 with 1 Axes>"
      ]
     },
     "metadata": {},
     "output_type": "display_data"
    }
   ],
   "source": [
    "plt.figure(figsize=(10,5))\n",
    "plt.pie(model_event_distribution,autopct='%.1f')"
   ]
  },
  {
   "cell_type": "markdown",
   "id": "eedb24cf",
   "metadata": {},
   "source": [
    "Check the distribution of verified Tesla autopilot deaths"
   ]
  },
  {
   "cell_type": "code",
   "execution_count": 184,
   "id": "97c53c82",
   "metadata": {},
   "outputs": [],
   "source": [
    "verified_deaths = 100*df[['Verified_T_autoP_death', 'Verified_T_autoP_death_NHTSA']].value_counts(normalize=True).reset_index()\n",
    "verified_deaths.sort_values(['proportion'], ascending=False, inplace=True)"
   ]
  },
  {
   "cell_type": "code",
   "execution_count": 185,
   "id": "b95dc4f3",
   "metadata": {},
   "outputs": [
    {
     "data": {
      "text/html": [
       "<div>\n",
       "<style scoped>\n",
       "    .dataframe tbody tr th:only-of-type {\n",
       "        vertical-align: middle;\n",
       "    }\n",
       "\n",
       "    .dataframe tbody tr th {\n",
       "        vertical-align: top;\n",
       "    }\n",
       "\n",
       "    .dataframe thead th {\n",
       "        text-align: right;\n",
       "    }\n",
       "</style>\n",
       "<table border=\"1\" class=\"dataframe\">\n",
       "  <thead>\n",
       "    <tr style=\"text-align: right;\">\n",
       "      <th></th>\n",
       "      <th>Verified_T_autoP_death</th>\n",
       "      <th>Verified_T_autoP_death_NHTSA</th>\n",
       "      <th>proportion</th>\n",
       "    </tr>\n",
       "  </thead>\n",
       "  <tbody>\n",
       "    <tr>\n",
       "      <th>0</th>\n",
       "      <td>0</td>\n",
       "      <td>0</td>\n",
       "      <td>91.836735</td>\n",
       "    </tr>\n",
       "    <tr>\n",
       "      <th>1</th>\n",
       "      <td>100</td>\n",
       "      <td>100</td>\n",
       "      <td>4.421769</td>\n",
       "    </tr>\n",
       "    <tr>\n",
       "      <th>2</th>\n",
       "      <td>0</td>\n",
       "      <td>100</td>\n",
       "      <td>2.721088</td>\n",
       "    </tr>\n",
       "    <tr>\n",
       "      <th>3</th>\n",
       "      <td>200</td>\n",
       "      <td>200</td>\n",
       "      <td>1.020408</td>\n",
       "    </tr>\n",
       "  </tbody>\n",
       "</table>\n",
       "</div>"
      ],
      "text/plain": [
       "   Verified_T_autoP_death  Verified_T_autoP_death_NHTSA  proportion\n",
       "0                       0                             0   91.836735\n",
       "1                     100                           100    4.421769\n",
       "2                       0                           100    2.721088\n",
       "3                     200                           200    1.020408"
      ]
     },
     "execution_count": 185,
     "metadata": {},
     "output_type": "execute_result"
    }
   ],
   "source": [
    "verified_deaths"
   ]
  },
  {
   "cell_type": "code",
   "execution_count": 186,
   "id": "bb0bedbc",
   "metadata": {},
   "outputs": [
    {
     "data": {
      "text/plain": [
       "Index(['Case', 'Date', 'Country', 'State', 'Description', 'Deaths',\n",
       "       'Tesla_Driver', 'Tesla_Occupant', 'Other_vehicle', 'Cyclist_Ped',\n",
       "       'Tesla_cyclist_ped', 'Model', 'Autopilot_claimed',\n",
       "       'Verified_T_autoP_death', 'Verified_T_autoP_death_NHTSA', 'Source',\n",
       "       'Note', 'Deceased_1', 'Deceased_2', 'Deceased_3', 'Deceased_4', 'Year',\n",
       "       'Month', 'Day'],\n",
       "      dtype='object')"
      ]
     },
     "execution_count": 186,
     "metadata": {},
     "output_type": "execute_result"
    }
   ],
   "source": [
    "df.columns"
   ]
  },
  {
   "cell_type": "code",
   "execution_count": 188,
   "id": "0ac40d3c",
   "metadata": {},
   "outputs": [
    {
     "data": {
      "text/plain": [
       "<IntegerArray>\n",
       "[0, 1, 2, 3, 4]\n",
       "Length: 5, dtype: Int64"
      ]
     },
     "execution_count": 188,
     "metadata": {},
     "output_type": "execute_result"
    }
   ],
   "source": [
    "df.Other_vehicle.unique()"
   ]
  },
  {
   "cell_type": "code",
   "execution_count": null,
   "id": "0bff7006",
   "metadata": {},
   "outputs": [],
   "source": []
  }
 ],
 "metadata": {
  "kernelspec": {
   "display_name": "Python 3 (ipykernel)",
   "language": "python",
   "name": "python3"
  },
  "language_info": {
   "codemirror_mode": {
    "name": "ipython",
    "version": 3
   },
   "file_extension": ".py",
   "mimetype": "text/x-python",
   "name": "python",
   "nbconvert_exporter": "python",
   "pygments_lexer": "ipython3",
   "version": "3.9.12"
  }
 },
 "nbformat": 4,
 "nbformat_minor": 5
}
